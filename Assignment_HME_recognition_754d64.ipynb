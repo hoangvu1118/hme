{
  "metadata": {
    "kernelspec": {
      "name": "python3",
      "display_name": "Python 3"
    },
    "language_info": {
      "name": "python",
      "version": "3.11.11",
      "mimetype": "text/x-python",
      "codemirror_mode": {
        "name": "ipython",
        "version": 3
      },
      "pygments_lexer": "ipython3",
      "nbconvert_exporter": "python",
      "file_extension": ".py"
    },
    "kaggle": {
      "accelerator": "nvidiaTeslaT4",
      "dataSources": [
        {
          "sourceId": 8596073,
          "sourceType": "datasetVersion",
          "datasetId": 5142469
        }
      ],
      "dockerImageVersionId": 31012,
      "isInternetEnabled": true,
      "language": "python",
      "sourceType": "notebook",
      "isGpuEnabled": true
    },
    "colab": {
      "provenance": [],
      "include_colab_link": true
    }
  },
  "nbformat_minor": 0,
  "nbformat": 4,
  "cells": [
    {
      "cell_type": "markdown",
      "metadata": {
        "id": "view-in-github",
        "colab_type": "text"
      },
      "source": [
        "<a href=\"https://colab.research.google.com/github/hoangvu1118/hme/blob/main/Assignment_HME_recognition_754d64.ipynb\" target=\"_parent\"><img src=\"https://colab.research.google.com/assets/colab-badge.svg\" alt=\"Open In Colab\"/></a>"
      ]
    },
    {
      "source": [
        "# IMPORTANT: RUN THIS CELL IN ORDER TO IMPORT YOUR KAGGLE DATA SOURCES,\n",
        "# THEN FEEL FREE TO DELETE THIS CELL.\n",
        "# NOTE: THIS NOTEBOOK ENVIRONMENT DIFFERS FROM KAGGLE'S PYTHON\n",
        "# ENVIRONMENT SO THERE MAY BE MISSING LIBRARIES USED BY YOUR\n",
        "# NOTEBOOK.\n",
        "import kagglehub\n",
        "ntcuong2103_crohme2019_path = kagglehub.dataset_download('ntcuong2103/crohme2019')\n",
        "\n",
        "print('Data source import complete.')\n"
      ],
      "metadata": {
        "id": "0h7MX0qyksPw"
      },
      "cell_type": "code",
      "outputs": [],
      "execution_count": null
    },
    {
      "cell_type": "markdown",
      "source": [
        "## **CROHME Temporal Sequence Classification (CROHME-CTC) Baseline**"
      ],
      "metadata": {
        "id": "C8s1xH4NksPx"
      }
    },
    {
      "cell_type": "markdown",
      "source": [
        "In this project, we will build and train a recurrent neural network (RNN) for translating handwritten mathematical expressions into sequence of symbols and relations based on Symbol Relation Tree and CROHME dataset.\n",
        "\n",
        "The model we'll be using is a simple RNN with a single layer of Bidirectional LSTM cells. We will use Connectionist Temporal Classification (CTC) loss to train the model.\n",
        "\n",
        "The model is trained on the CROHME dataset, which contains handwritten mathematical expressions in the form of Symbol Relation Trees. The dataset is preprocessed and converted into a sequence of symbols and relations, which is used as the input to the model.\n",
        "\n",
        "Your job is to feature engineer the input data and train the model to achieve the best performance possible. Additionally, consider implementing data augmentation techniques to enhance the training dataset."
      ],
      "metadata": {
        "id": "jvad78IUksPy"
      }
    },
    {
      "cell_type": "markdown",
      "source": [
        "Some features from the project:\n",
        "\n",
        "*   Public competition dataset: CROHME https://paperswithcode.com/dataset/crohme-2019\n",
        "*   Advance data preparation: time series feature extraction, collate function\n",
        "*   High level API of pytorch lightning\n",
        "*   Experiment tracking with Weight and Biases\n",
        "\n"
      ],
      "metadata": {
        "id": "CSARCgA1ksPz"
      }
    },
    {
      "cell_type": "markdown",
      "source": [
        "## Dependencies"
      ],
      "metadata": {
        "id": "fhVxVrCdksP0"
      }
    },
    {
      "cell_type": "code",
      "source": [
        "!pip -q install pytorch-lightning torchmetrics wandb"
      ],
      "metadata": {
        "id": "aYrx8gn_lMUz"
      },
      "execution_count": null,
      "outputs": []
    },
    {
      "cell_type": "code",
      "source": [
        "import torch\n",
        "import torch.nn as nn\n",
        "import torch.nn.functional as F\n",
        "import torch.optim as optim\n",
        "from torch.utils.data import DataLoader, Dataset\n",
        "from torchmetrics.text import EditDistance\n",
        "\n",
        "import numpy as np\n",
        "import pandas as pd\n",
        "import os\n",
        "\n",
        "import pytorch_lightning as pl\n",
        "from pytorch_lightning import Trainer\n",
        "from pytorch_lightning.callbacks import ModelCheckpoint, LearningRateMonitor\n",
        "from pytorch_lightning.loggers import TensorBoardLogger, WandbLogger\n",
        "import wandb\n",
        "\n",
        "import xml.etree.ElementTree as ET\n",
        "from torch.nn.utils.rnn import pad_sequence\n",
        "\n",
        "import matplotlib.pyplot as plt\n",
        "from helper import *\n",
        "from collections.abc import Sequence\n",
        "from typing import Literal, Optional, Union\n",
        "\n",
        "import json"
      ],
      "metadata": {
        "trusted": true,
        "execution": {
          "iopub.status.busy": "2025-05-29T09:25:05.114164Z",
          "iopub.execute_input": "2025-05-29T09:25:05.114387Z",
          "iopub.status.idle": "2025-05-29T09:25:21.384025Z",
          "shell.execute_reply.started": "2025-05-29T09:25:05.114371Z",
          "shell.execute_reply": "2025-05-29T09:25:21.383391Z"
        },
        "id": "XMNYqKrEksP1"
      },
      "outputs": [],
      "execution_count": null
    },
    {
      "cell_type": "code",
      "source": [
        "# mount crohme2019 -> dataset\n",
        "!ln -s /kaggle/input/crohme2019 dataset"
      ],
      "metadata": {
        "trusted": true,
        "execution": {
          "iopub.status.busy": "2025-05-29T09:25:21.385147Z",
          "iopub.execute_input": "2025-05-29T09:25:21.385376Z",
          "iopub.status.idle": "2025-05-29T09:25:21.52663Z",
          "shell.execute_reply.started": "2025-05-29T09:25:21.385351Z",
          "shell.execute_reply": "2025-05-29T09:25:21.525724Z"
        },
        "id": "XjwJV3EiksP1"
      },
      "outputs": [],
      "execution_count": null
    },
    {
      "cell_type": "markdown",
      "source": [
        "> The above command created a symbolic link\n",
        "> dataset -> /kaggle/input/crohme2019\n",
        ">\n",
        "> We can now access the dataset from current directory instead of /kaggle/input"
      ],
      "metadata": {
        "id": "w4k0HPa7ksP2"
      }
    },
    {
      "cell_type": "code",
      "source": [
        "# This code for displaying current directory tree, you don't need to run.\n",
        "\n",
        "# !sudo apt-get install tree\n",
        "# !tree -L 3 dataset"
      ],
      "metadata": {
        "trusted": true,
        "execution": {
          "iopub.status.busy": "2025-05-29T09:25:21.527592Z",
          "iopub.execute_input": "2025-05-29T09:25:21.527881Z",
          "iopub.status.idle": "2025-05-29T09:25:21.531854Z",
          "shell.execute_reply.started": "2025-05-29T09:25:21.527855Z",
          "shell.execute_reply": "2025-05-29T09:25:21.531098Z"
        },
        "id": "LhMRoZdLksP3"
      },
      "outputs": [],
      "execution_count": null
    },
    {
      "cell_type": "markdown",
      "source": [
        "### Overview of the dataset\n",
        "\n",
        "This is the folder structure of the dataset.\n",
        "\n",
        "```\n",
        "dataset\n",
        "├── crohme2019\n",
        "│   └── crohme2019\n",
        "│       ├── test\n",
        "│       ├── train\n",
        "│       └── valid\n",
        "├── crohme2019_test.txt\n",
        "├── crohme2019_train.txt\n",
        "└── crohme2019_valid.txt\n",
        "```\n",
        "\n",
        "There are two parts:\n",
        "* Inkml files: XML based files containing handwriting data (sequences of handwritten strokes) captured from the devices.\n",
        "```\n",
        "dataset\n",
        "├── crohme2019\n",
        "│   └── crohme2019\n",
        "│       ├── test\n",
        "│       ├── train\n",
        "│       └── valid\n",
        "```\n",
        "* Annotation files: Containing the labels for each input handwriting samples.\n",
        "```\n",
        "dataset\n",
        "├── crohme2019_test.txt\n",
        "├── crohme2019_train.txt\n",
        "└── crohme2019_valid.txt\n",
        "```\n",
        "\n"
      ],
      "metadata": {
        "id": "IIIo18dmksP4"
      }
    },
    {
      "cell_type": "markdown",
      "source": [
        "> An example of inkml file, the points (x, y coords) are records in each trace (handwritten stroke).\n",
        "\n",
        "```\n",
        "<ink xmlns=\"http://www.w3.org/2003/InkML\">\n",
        "<traceFormat>\n",
        "<channel name=\"X\" type=\"decimal\"/>\n",
        "<channel name=\"Y\" type=\"decimal\"/>\n",
        "</traceFormat>\n",
        "...\n",
        "\n",
        "<trace id=\"0\">\n",
        "241 123, 240 123, 239 123, 238 123, 237 123, 236 123, 236 122, 237 122, 238 122, 240 122, 242 122, 244 122, 247 122, 251 121, 254 121, 257 121, 260 120, 262 120, 265 120, 266 120, 267 120, 268 120, 269 120, 268 120\n",
        "</trace>\n",
        "<trace id=\"1\">\n",
        "301 123, 300 124, 299 124, 298 124, 297 124, 296 124, 295 124, 294 124, 295 124, 296 124, 297 124, 298 124, 299 123, 301 123, 302 123, 303 123, 304 122, 305 122, 306 122, 307 122, 308 122, 310 122, 311 122, 314 122, 316 121, 317 121, 319 121, 321 121, 323 121, 328 120, 330 120, 332 120, 333 120, 335 120, 336 120, 344 119, 346 119, 348 119, 350 119, 352 119, 357 119, 358 119, 360 119, 362 119, 364 119, 365 119, 370 119, 372 119, 373 119, 374 119, 375 119, 377 119, 377 118, 376 118, 374 118, 372 118\n",
        "</trace>\n",
        "<trace id=\"2\">\n",
        "318 89, 319 89, 320 89, 321 88, 323 87, 324 86, 325 84, 326 83, 327 82, 328 80, 329 79, 330 77, 331 75, 332 74, 333 73, 333 72, 333 73, 333 75, 333 76, 333 78, 333 80, 332 81, 332 83, 332 85, 332 86, 332 88, 332 90, 332 92, 332 93, 333 95, 333 97, 333 98, 333 100, 333 101, 333 102, 333 103, 333 104, 333 103, 333 101, 332 99\n",
        "</trace>\n",
        "<trace id=\"3\">\n",
        "302 148, 301 148, 302 147, 302 146, 303 145, 304 144, 305 143, 306 142, 307 140, 308 139, 308 138, 308 137, 308 136, 308 137, 308 138, 309 139, 309 140, 309 141, 309 142, 309 144, 309 146, 309 147, 309 149, 309 151, 309 153, 309 155, 309 157, 310 159, 310 162, 310 164, 310 169, 310 171, 310 172, 310 174, 311 175, 311 179, 311 180, 311 181, 311 182, 311 181\n",
        "</trace>\n",
        "...\n",
        "\n",
        "</ink>\n",
        "\n",
        "```\n",
        "\n",
        "> An example of annotation file: left part is inkml file path, right part is the label (target) for that inkml file.\n",
        "\n",
        "```\n",
        "...\n",
        "crohme2019/test/UN19_1041_em_597.inkml\t- Right \\sqrt Inside 2\n",
        "crohme2019/test/UN19_1019_em_256.inkml\ta Right n Right y\n",
        "crohme2019/test/UN19_1033_em_474.inkml\tV Sub n Right - Right 1 NoRel = Right \\int Right d Sup n Right - Right 1 NoRel x Right \\sqrt Inside h\n",
        "...\n",
        "```\n",
        "\n",
        "> The label is a sequence of **symbols** and **spatial relations** between symbols (based on writing order).\n",
        "\n",
        "![image.png](attachment:2a786e58-ef21-4879-b1e8-37a8081d7deb.png)"
      ],
      "metadata": {
        "id": "iq_wIeTDksP5"
      }
    },
    {
      "cell_type": "code",
      "source": [
        "# !cat dataset/crohme2019/crohme2019/test/ISICal19_1201_em_750.inkml\n",
        "# !cat dataset/crohme2019_test.txt | head -10"
      ],
      "metadata": {
        "trusted": true,
        "execution": {
          "iopub.status.busy": "2025-05-29T09:25:21.533522Z",
          "iopub.execute_input": "2025-05-29T09:25:21.534012Z",
          "iopub.status.idle": "2025-05-29T09:25:21.550155Z",
          "shell.execute_reply.started": "2025-05-29T09:25:21.533995Z",
          "shell.execute_reply": "2025-05-29T09:25:21.54951Z"
        },
        "id": "_MRuSLlrksP5"
      },
      "outputs": [],
      "execution_count": null
    },
    {
      "cell_type": "markdown",
      "source": [
        "## Task 1: Build Vocabulary\n",
        "\n",
        "Builds and manages a vocabulary for converting characters (tokens) to indices (encoding) and vice-versa (decoding). This is essential for processing text data in machine learning tasks, particularly for sequence-to-sequence models like those used in handwriting recognition or mathematical expression translation.\n",
        "\n",
        "In this project, the vocabulary is for encoding the target sequence (for example: \"- Right \\\\sqrt Inside 2\") into a sequence of indices ([5, 37, 74, 30, 10]). It is constructed from multiple annotation files (train, test, and validation sets) and includes a special blank character (this is for CTC loss). It supports encoding (tokens to indices) and decoding (indices to tokens) operations.\n",
        "\n",
        "\n",
        "> _You will need to build the `class Vocab` using the two functions provided. Also the vocabulary should be exported as a JSON file so that we can reuse it later in the dataset._\n",
        "\n",
        "***Input***: the path to the dataset files _(train, valid, and test)_.\n",
        "\n",
        "\n",
        "```python\n",
        "paths = [\n",
        "    \"dataset/crohme2019_train.txt\",\n",
        "    \"dataset/crohme2019_test.txt\",\n",
        "    \"dataset/crohme2019_valid.txt\",\n",
        "]\n",
        "```\n",
        "\n",
        "***Output***: the vocabulary.\n",
        "\n",
        "```python\n",
        "vocab = {\n",
        "    \"a\": 0,\n",
        "    \"b\": 1,\n",
        "    \"c\": 2,\n",
        "    ...\n",
        "}\n",
        "```"
      ],
      "metadata": {
        "id": "_BF4JtscksP6"
      }
    },
    {
      "cell_type": "code",
      "source": [
        "paths = [\n",
        "    \"dataset/crohme2019_train.txt\",\n",
        "    \"dataset/crohme2019_test.txt\",\n",
        "    \"dataset/crohme2019_valid.txt\",\n",
        "]\n",
        "df = pd.read_csv(paths[1], sep=\"\\t\", header=None, names=[\"path\", \"label\"]).dropna().astype(str)\n",
        "df.head()"
      ],
      "metadata": {
        "trusted": true,
        "execution": {
          "iopub.status.busy": "2025-05-29T09:25:21.550828Z",
          "iopub.execute_input": "2025-05-29T09:25:21.550997Z",
          "iopub.status.idle": "2025-05-29T09:25:21.61596Z",
          "shell.execute_reply.started": "2025-05-29T09:25:21.550984Z",
          "shell.execute_reply": "2025-05-29T09:25:21.615166Z"
        },
        "id": "alkjJ8r-ksP6"
      },
      "outputs": [],
      "execution_count": null
    },
    {
      "cell_type": "code",
      "source": [
        "# annotations = [\n",
        "#     \"dataset/crohme2019_train.txt\",\n",
        "#     \"dataset/crohme2019_test.txt\",\n",
        "#     \"dataset/crohme2019_valid.txt\",\n",
        "# ]\n",
        "# df = pd.read_csv(annotations[0], sep=\"\\t\", header=None, names=[\"path\", \"label\"]).dropna().astype(str)\n",
        "# df.head()"
      ],
      "metadata": {
        "trusted": true,
        "execution": {
          "iopub.status.busy": "2025-05-29T09:25:21.616963Z",
          "iopub.execute_input": "2025-05-29T09:25:21.61722Z",
          "iopub.status.idle": "2025-05-29T09:25:21.620411Z",
          "shell.execute_reply.started": "2025-05-29T09:25:21.617195Z",
          "shell.execute_reply": "2025-05-29T09:25:21.619805Z"
        },
        "id": "TQNhPfNVksP7"
      },
      "outputs": [],
      "execution_count": null
    },
    {
      "cell_type": "code",
      "source": [
        "def get_unique_chars(paths) -> set:\n",
        "    res = set()\n",
        "    for i in df['label'].apply(lambda x: x.strip().split()):\n",
        "        res.update(i)\n",
        "    return res\n",
        "\n",
        "len(get_unique_chars(paths[0]))"
      ],
      "metadata": {
        "trusted": true,
        "execution": {
          "iopub.status.busy": "2025-05-29T09:25:21.621039Z",
          "iopub.execute_input": "2025-05-29T09:25:21.621265Z",
          "iopub.status.idle": "2025-05-29T09:25:21.642885Z",
          "shell.execute_reply.started": "2025-05-29T09:25:21.621247Z",
          "shell.execute_reply": "2025-05-29T09:25:21.64225Z"
        },
        "id": "XhUeiqIEksP8"
      },
      "outputs": [],
      "execution_count": null
    },
    {
      "cell_type": "code",
      "source": [
        "unique_chars = get_unique_chars(paths[0])\n"
      ],
      "metadata": {
        "trusted": true,
        "execution": {
          "iopub.status.busy": "2025-05-29T09:25:21.643733Z",
          "iopub.execute_input": "2025-05-29T09:25:21.644372Z",
          "iopub.status.idle": "2025-05-29T09:25:21.660719Z",
          "shell.execute_reply.started": "2025-05-29T09:25:21.644349Z",
          "shell.execute_reply": "2025-05-29T09:25:21.660141Z"
        },
        "id": "jgHBUBF0ksP8"
      },
      "outputs": [],
      "execution_count": null
    },
    {
      "cell_type": "markdown",
      "source": [
        "The vocabulary should be sorted by ascii table. The first character (index 0) must be blank (`''`)."
      ],
      "metadata": {
        "id": "UQrRptXzksP8"
      }
    },
    {
      "cell_type": "code",
      "source": [
        "def chr2idx(unique_chars: set) -> dict:\n",
        "    unique_chars.add('')\n",
        "    return {char: idx for idx, char in enumerate(sorted(unique_chars))}\n",
        "\n",
        "vocab = chr2idx(get_unique_chars(paths[0]))\n",
        "print(vocab)\n",
        "assert vocab[\"\"] == 0\n",
        "assert vocab[\"|\"] == 108\n",
        "assert vocab[\"\\\\pi\"] == 68\n",
        "assert vocab[\"\\\\exists\"] == 51\n",
        "assert len(vocab) == 109"
      ],
      "metadata": {
        "trusted": true,
        "execution": {
          "iopub.status.busy": "2025-05-29T09:25:21.661456Z",
          "iopub.execute_input": "2025-05-29T09:25:21.66175Z",
          "iopub.status.idle": "2025-05-29T09:25:21.680813Z",
          "shell.execute_reply.started": "2025-05-29T09:25:21.661723Z",
          "shell.execute_reply": "2025-05-29T09:25:21.679981Z"
        },
        "id": "tNiKxHvyksP8"
      },
      "outputs": [],
      "execution_count": null
    },
    {
      "cell_type": "code",
      "source": [
        "class Vocab:\n",
        "    \"\"\"\n",
        "    Attributes:\n",
        "        paths (list): A list of file paths to the annotation files.\n",
        "        char2idx (dict): A dictionary mapping characters to their corresponding indices.  This is the primary vocabulary.\n",
        "        idx2char (dict): A reverse mapping from indices to characters, facilitating decoding.\n",
        "\n",
        "    Methods:\n",
        "        build_vocab(): Builds the vocabulary from the specified annotation files, sorting characters lexicographically and adding a blank character.\n",
        "        get_vocab(): Returns the character-to-index vocabulary.\n",
        "        save_vocab(path): Saves the vocabulary to a JSON file.\n",
        "        encode(tokens): Converts a list of tokens (characters) into a list of their corresponding indices.\n",
        "        decode(ids): Converts a list of indices back into a list of tokens (characters).\n",
        "    \"\"\"\n",
        "    def __init__(self, vocab_file=None):\n",
        "        self.char2idx = {}\n",
        "        if vocab_file is not None:\n",
        "            self.char2idx = json.load(open(vocab_file))\n",
        "        self.idx2char = {v: k for k, v in self.char2idx.items()}\n",
        "\n",
        "\n",
        "\n",
        "    def build_vocab(self, annotations) -> None:\n",
        "        unique_chars = set()\n",
        "        for annotation_path in annotations:\n",
        "            df = pd.read_csv(annotation_path, sep=\"\\t\", header=None, names=[\"path\", \"label\"]).dropna().astype(str)\n",
        "            for label in df['label']:\n",
        "                tokens = label.strip().split()\n",
        "                unique_chars.update(tokens)\n",
        "\n",
        "        unique_chars.add('')  # Add blank token\n",
        "        self.char2idx = {char: idx for idx, char in enumerate(sorted(unique_chars))}\n",
        "        self.idx2char = {v: k for k, v in self.char2idx.items()}\n",
        "\n",
        "    def get_vocab(self) -> dict:  # getter\n",
        "        return self.char2idx\n",
        "\n",
        "    def save_vocab(self, path: str) -> None:  # save vocab to json file\n",
        "        with open(path, 'w') as f:\n",
        "            json.dump(self.char2idx, f)\n",
        "\n",
        "    def encode(self, tokens):\n",
        "        return [self.char2idx[token] for token in tokens]\n",
        "\n",
        "    def decode(self, ids):\n",
        "        return [self.idx2char[id] for id in ids]\n",
        "\n"
      ],
      "metadata": {
        "trusted": true,
        "execution": {
          "iopub.status.busy": "2025-05-29T09:25:21.68357Z",
          "iopub.execute_input": "2025-05-29T09:25:21.684001Z",
          "iopub.status.idle": "2025-05-29T09:25:21.701472Z",
          "shell.execute_reply.started": "2025-05-29T09:25:21.683983Z",
          "shell.execute_reply": "2025-05-29T09:25:21.70092Z"
        },
        "id": "OScyFj2GksP8"
      },
      "outputs": [],
      "execution_count": null
    },
    {
      "cell_type": "code",
      "source": [
        "# CHECKPOINT: build vocab from annotations\n",
        "annotations = [\n",
        "    \"dataset/crohme2019_train.txt\",\n",
        "    \"dataset/crohme2019_test.txt\",\n",
        "    \"dataset/crohme2019_valid.txt\",\n",
        "]\n",
        "\n",
        "input = '- Right \\\\sqrt Inside 2'.split()\n",
        "vocab = Vocab()\n",
        "vocab.build_vocab(annotations)\n",
        "vocab.save_vocab('vocab.json')\n"
      ],
      "metadata": {
        "trusted": true,
        "execution": {
          "iopub.status.busy": "2025-05-29T09:25:21.702197Z",
          "iopub.execute_input": "2025-05-29T09:25:21.702423Z",
          "iopub.status.idle": "2025-05-29T09:25:21.796323Z",
          "shell.execute_reply.started": "2025-05-29T09:25:21.702399Z",
          "shell.execute_reply": "2025-05-29T09:25:21.795795Z"
        },
        "id": "ZQA_bdSWksP8"
      },
      "outputs": [],
      "execution_count": null
    },
    {
      "cell_type": "code",
      "source": [
        "# TEST: vocab class loaded from prebuilt JSON\n",
        "vocab = Vocab('vocab.json')\n",
        "\n",
        "# encoding a sequence\n",
        "input = '- Right \\\\sqrt Inside 2'.split()\n",
        "\n",
        "assert vocab.encode(input) == [5, 37, 74, 30, 10]\n",
        "assert vocab.decode(vocab.encode(input)) == input"
      ],
      "metadata": {
        "trusted": true,
        "execution": {
          "iopub.status.busy": "2025-05-29T09:25:21.797019Z",
          "iopub.execute_input": "2025-05-29T09:25:21.797612Z",
          "iopub.status.idle": "2025-05-29T09:25:21.801992Z",
          "shell.execute_reply.started": "2025-05-29T09:25:21.797583Z",
          "shell.execute_reply": "2025-05-29T09:25:21.801425Z"
        },
        "id": "tMFcbFMeksP9"
      },
      "outputs": [],
      "execution_count": null
    },
    {
      "cell_type": "markdown",
      "source": [
        "## Task 2: Build Dataset\n",
        "\n",
        "In this task, we will build a dataset class that will be used to load the dataset files _(train, valid, and test)_.\n",
        "\n",
        "The dataset class will also be used to preprocess the data by converting the characters in the data to integers using the vocabulary.\n",
        "\n",
        "> _Before going to this task, it is **highly recommended** to read this [Tutorial on creating Custom Dataset](https://pytorch.org/tutorials/beginner/basics/data_tutorial.html#creating-a-custom-dataset-for-your-files) with PyTorch._\n",
        ">\n",
        "> _You should have basic understanding of required methods in the Dataset class such as `__init__`, `__len__`, and `__getitem__`._\n",
        "\n",
        "\n",
        "***Input***: Dataset class should take the following arguments:.\n",
        "\n",
        "- `annotation`: the path to the dataset annotation *(`.txt`)*.\n",
        "- `root_dir`: the root directory of the dataset file.\n",
        "- `vocab`: the vocabulary.\n",
        "\n",
        "***Output***: the dataset class.\n",
        "\n",
        "> *Note: You can adjust the Dataset class base on your references.*\n"
      ],
      "metadata": {
        "id": "1chRgigHksP9"
      }
    },
    {
      "cell_type": "markdown",
      "source": [
        "### Handling Inkml files\n",
        "\n",
        "We have an inkml file: `crohme2019/test/UN19_1041_em_597.inkml`\n",
        "\n",
        "Its label is `- Right \\sqrt Inside 2`\n",
        "\n",
        "Target would be: `[5, 37, 74, 30, 10]`, where the index here is the index of tokens (from a vocabulary)\n",
        "\n",
        "We provided you with class `Inkml` to handle the parsing and processing of the inkml files. The main method you will use is `getTraces()` which returns the traces of the inkml file.\n",
        "\n",
        "> _Inspect this class and understand how you should be working with this type of data._\n"
      ],
      "metadata": {
        "id": "TIsS7MopksP9"
      }
    },
    {
      "cell_type": "code",
      "source": [
        "class Segment(object):\n",
        "    \"\"\"Class to reprsent a Segment compound of strokes (id) with an id and label.\"\"\"\n",
        "\n",
        "    __slots__ = (\"id\", \"label\", \"strId\")\n",
        "\n",
        "    def __init__(self, *args):\n",
        "        if len(args) == 3:\n",
        "            self.id = args[0]\n",
        "            self.label = args[1]\n",
        "            self.strId = args[2]\n",
        "        else:\n",
        "            self.id = \"none\"\n",
        "            self.label = \"\"\n",
        "            self.strId = set([])\n",
        "\n",
        "\n",
        "class Inkml(object):\n",
        "    \"\"\"Class to represent an INKML file with strokes, segmentation and labels\"\"\"\n",
        "\n",
        "    __slots__ = (\"fileName\", \"strokes\", \"strkOrder\", \"segments\", \"truth\", \"UI\")\n",
        "\n",
        "    NS = {\n",
        "        \"ns\": \"http://www.w3.org/2003/InkML\",\n",
        "        \"xml\": \"http://www.w3.org/XML/1998/namespace\",\n",
        "    }\n",
        "\n",
        "    def __init__(self, *args):\n",
        "        self.fileName = None\n",
        "        self.strokes = {}   # Stores actual trace data: {stroke_id: \"x1 y1, x2 y2, ...\"}\n",
        "        self.strkOrder = [] # Stores stroke_ids in the order they appear\n",
        "        self.segments = {}  # Stores Segment objects: {segment_id: Segment_object}\n",
        "        self.truth = \"\"     # Ground truth label for the whole ink\n",
        "        self.UI = \"\"        # User Identifier or other info\n",
        "        if len(args) == 1:\n",
        "            self.fileName = args[0]\n",
        "            self.loadFromFile()\n",
        "\n",
        "    def fixNS(self, ns, att):\n",
        "        \"\"\"Build the right tag or element name with namespace\"\"\"\n",
        "        return \"{\" + Inkml.NS[ns] + \"}\" + att\n",
        "\n",
        "    def loadFromFile(self):\n",
        "        \"\"\"load the ink from an inkml file (strokes, segments, labels)\"\"\"\n",
        "        tree = ET.parse(self.fileName)\n",
        "        # # ET.register_namespace();\n",
        "        root = tree.getroot()\n",
        "        for info in root.findall(\"ns:annotation\", namespaces=Inkml.NS):\n",
        "            if \"type\" in info.attrib:\n",
        "                if info.attrib[\"type\"] == \"truth\":\n",
        "                    self.truth = info.text.strip()\n",
        "                if info.attrib[\"type\"] == \"UI\":\n",
        "                    self.UI = info.text.strip()\n",
        "        for strk in root.findall(\"ns:trace\", namespaces=Inkml.NS):\n",
        "            self.strokes[strk.attrib[\"id\"]] = strk.text.strip()\n",
        "            self.strkOrder.append(strk.attrib[\"id\"])\n",
        "        segments = root.find(\"ns:traceGroup\", namespaces=Inkml.NS)\n",
        "        if segments is None or len(segments) == 0:\n",
        "            return\n",
        "        for seg in segments.iterfind(\"ns:traceGroup\", namespaces=Inkml.NS):\n",
        "            id = seg.attrib[self.fixNS(\"xml\", \"id\")]\n",
        "            label = seg.find(\"ns:annotation\", namespaces=Inkml.NS).text\n",
        "            strkList = set([])\n",
        "            for t in seg.findall(\"ns:traceView\", namespaces=Inkml.NS):\n",
        "                strkList.add(t.attrib[\"traceDataRef\"])\n",
        "            self.segments[id] = Segment(id, label, strkList)\n",
        "\n",
        "    def getTraces(self, height=256):\n",
        "        #This method processes the raw stroke data into a more usable format for visualization or further processing, and normalizes it.\n",
        "        #Convert stroke coordinate strings to NumPy arrays\n",
        "        traces_array = [\n",
        "            np.array(\n",
        "                [p.strip().split() for p in self.strokes[id].split(\",\")], dtype=\"float\"\n",
        "            )\n",
        "            for id in self.strkOrder # Process strokes in their original order\n",
        "        ]\n",
        "\n",
        "        ratio = height / (\n",
        "            (\n",
        "                np.concatenate(traces_array, 0).max(0)\n",
        "                - np.concatenate(traces_array, 0).min(0)\n",
        "            )[1]\n",
        "            + 1e-6\n",
        "        )\n",
        "        return [(trace * ratio).astype(int).tolist() for trace in traces_array]\n",
        "\n",
        "    def view(self):\n",
        "        plt.figure(figsize = (16, 4))\n",
        "        plt.axis(\"off\")\n",
        "        for trace in self.getTraces():\n",
        "            trace_arr = np.array(trace)\n",
        "            plt.plot(trace_arr[:, 0], -trace_arr[:, 1])  # invert y coordinate"
      ],
      "metadata": {
        "trusted": true,
        "execution": {
          "iopub.status.busy": "2025-05-29T09:25:21.802949Z",
          "iopub.execute_input": "2025-05-29T09:25:21.803194Z",
          "iopub.status.idle": "2025-05-29T09:25:21.819879Z",
          "shell.execute_reply.started": "2025-05-29T09:25:21.803173Z",
          "shell.execute_reply": "2025-05-29T09:25:21.819198Z"
        },
        "id": "YQIC4S0oksP9"
      },
      "outputs": [],
      "execution_count": null
    },
    {
      "cell_type": "code",
      "source": [],
      "metadata": {
        "trusted": true,
        "id": "wDh5vjvuksP9"
      },
      "outputs": [],
      "execution_count": null
    },
    {
      "cell_type": "code",
      "source": [
        "inkml_path = 'dataset/crohme2019/crohme2019/test/UN19_1041_em_597.inkml'\n",
        "ink = Inkml(inkml_path)\n",
        "rawTraces = ink.getTraces()\n",
        "for trace in rawTraces:\n",
        "    trace_arr = np.array(trace)\n",
        "    print(trace_arr)\n"
      ],
      "metadata": {
        "trusted": true,
        "execution": {
          "iopub.status.busy": "2025-05-29T09:25:21.820584Z",
          "iopub.execute_input": "2025-05-29T09:25:21.820897Z",
          "iopub.status.idle": "2025-05-29T09:25:21.856304Z",
          "shell.execute_reply.started": "2025-05-29T09:25:21.82087Z",
          "shell.execute_reply": "2025-05-29T09:25:21.855522Z"
        },
        "collapsed": true,
        "id": "W_HIqRKmksP9"
      },
      "outputs": [],
      "execution_count": null
    },
    {
      "cell_type": "code",
      "source": [
        "print(ink.getTraces()[2])"
      ],
      "metadata": {
        "trusted": true,
        "execution": {
          "iopub.status.busy": "2025-05-29T09:25:21.857193Z",
          "iopub.execute_input": "2025-05-29T09:25:21.857747Z",
          "iopub.status.idle": "2025-05-29T09:25:21.86218Z",
          "shell.execute_reply.started": "2025-05-29T09:25:21.857721Z",
          "shell.execute_reply": "2025-05-29T09:25:21.861682Z"
        },
        "id": "8FiUdzXYksP9"
      },
      "outputs": [],
      "execution_count": null
    },
    {
      "cell_type": "code",
      "source": [
        "# Display shapes of first 5 traces in one file\n",
        "# trace represents a single, continuous stroke made by a pen or stylus without lifting it from the writing surface.\n",
        "[np.array(trace).shape for trace in ink.getTraces()]"
      ],
      "metadata": {
        "trusted": true,
        "_kg_hide-output": true,
        "execution": {
          "iopub.status.busy": "2025-05-29T09:25:21.863062Z",
          "iopub.execute_input": "2025-05-29T09:25:21.863401Z",
          "iopub.status.idle": "2025-05-29T09:25:21.880158Z",
          "shell.execute_reply.started": "2025-05-29T09:25:21.863374Z",
          "shell.execute_reply": "2025-05-29T09:25:21.879548Z"
        },
        "id": "8LVj6k0mksP9"
      },
      "outputs": [],
      "execution_count": null
    },
    {
      "cell_type": "markdown",
      "source": [
        "> **REMARK**: _Some Inkml may return (x, y, t) coordinates, while most of them return (x, y) coordinates. Make sure to handle this inconsistency in your implementation._"
      ],
      "metadata": {
        "id": "mJDv_JyBksP9"
      }
    },
    {
      "cell_type": "markdown",
      "source": [
        "### Dataflow\n",
        "Below is a typical dataflow to train a model.\n",
        "```mermaid\n",
        "flowchart LR\n",
        "    A[Raw Data] --> |parse| B[Cleaned Data]\n",
        "    B --> |feature engineering| C[Dataset]\n",
        "    C --> |package| D[DataLoader]\n",
        "    D --> |load| E[Model]\n",
        "    E --> |predict| F[Output]\n",
        "    F --> |calculate| G[Loss]\n",
        "    G --> |backpropagate| E\n",
        "```"
      ],
      "metadata": {
        "id": "9m-92ivgksP9"
      }
    },
    {
      "cell_type": "markdown",
      "source": [
        "### Build Dataset\n",
        "\n",
        "For calculating the Connectionist Temporal Classification (CTC) loss, read the [expected output](https://pytorch.org/docs/stable/generated/torch.nn.CTCLoss.html) of this loss function from PyTorch.\n",
        "\n",
        "> _Hint: focus on the shapes and the expected variables. (see code example for calculating loss)_\n",
        "> ```python\n",
        "> loss = ctc_loss(input_tensor, target_tensor, input_lengths, target_lengths)\n",
        "> ```\n",
        "\n",
        "**Base on the observation, how can we build a dataset class from the dataset files?**\n",
        "\n",
        "> Hints:\n",
        ">   - *Understand the big picture. (Dataflow)*\n",
        ">   - *What informations needed to calculate our Loss?*\n",
        ">   - *What should be returned in the `__getitem__` method?*\n",
        ">   - *The outputs should be of Tensor type*\n",
        "   \n",
        "***References from pytorch [tutorials](https://pytorch.org/tutorials/beginner/data_loading_tutorial.html)***\n",
        "\n",
        "`torch.utils.data.Dataset` is an abstract class representing a dataset. Your custom dataset should inherit `Dataset` and override the following methods:\n",
        "\n",
        "- `__len__` so that `len(dataset)` returns the size of the dataset.\n",
        "\n",
        "- `__getitem__` to support the indexing such that `dataset[i]` can be used to get ith sample.\n"
      ],
      "metadata": {
        "id": "rmzpAHc-ksP9"
      }
    },
    {
      "cell_type": "markdown",
      "source": [
        "### Feature representation\n",
        "\n",
        "In this task, we will convert the strokes into feature representations that can be used by the model.\n",
        "\n",
        "Initially, the `.getTraces()` method returns list of strokes, where each stroke is a list of (x, y) coordinates. Intuitively, we can use those coordinates as features. But if directly using the coordinates as features, the model will have a hard time learning the patterns.\n",
        "\n",
        "Instead, we can calculate the difference *(∆d)* between consecutive coordinates as features. This way, the model can learn the patterns more easily.\n",
        "\n",
        "$\\Delta_x = x_{i+1} - x_i$ and $\\Delta_y = y_{i+1} - y_i$\n",
        "\n",
        "The feature would then be normalized as\n",
        "\n",
        "($\\frac{\\Delta_x}{d}$ , $\\frac{\\Delta_y} {d}$), where $d = \\sqrt{\\Delta_x^2 + \\Delta_y^2}$\n",
        "\n",
        "**Pen-up and Pen-down**\n",
        "\n",
        "In the dataset, each stroke is separated by a pen-up event. We can use this information to separate the strokes.\n",
        "\n",
        "1. The pen is lifted from the paper (connecting the end of a stroke to the start of a stroke): $pen\\_up = 1$\n",
        "2. The pen is on the paper: $pen\\_up = 0$\n",
        "\n",
        "Then, our feature representation would be:\n",
        "($\\frac{\\Delta_x}{d}$ , $\\frac{\\Delta_y} {d}$, $d$, $pen\\_up$)\n",
        "\n",
        "\n",
        "```\n",
        "point 1: (x1, y1)\n",
        "point 2: (x2, y2)\n",
        "point 3: (x3, y3) <--- end of stroke #1\n",
        "point 4: (x4, y4) <--- start of stroke #2\n",
        "...\n",
        "point n: (xn, yn)\n",
        "```\n",
        "\n",
        "The feature representation will be:\n",
        "\n",
        "```\n",
        "f1 = ((x2 - x1) / d, (y2 - y1)/d, d, 0)\n",
        "f2 = ((x3 - x2) / d, (y3 - y2)/d, d, 0)\n",
        "f3 = ((x4 - x3) / d, (y4 - y3)/d, d, 1) <-- pen up\n",
        "...\n",
        "fn-1 = ((xn - xn-1) / d, (yn - yn-1)/d, d, 0)\n",
        "```"
      ],
      "metadata": {
        "id": "bHR9287TksP9"
      }
    },
    {
      "cell_type": "markdown",
      "source": [
        "#### **CHECK LIST**\n",
        "\n",
        "For each data sample, we will do the following steps\n",
        "- Combine all the strokes into a single stroke (N, 2)\n",
        "- Compute first order differences of x and y coordinates\n",
        "- Remove any zero length strokes\n",
        "- Compute Euclidean distances between consecutive points\n",
        "- Normalize the x and y coordinates by Euclidean distance\n",
        "- Add feature pen-up/pen-down\n",
        "> *Features of transformed data: (delta traces, distance, pen_up_down)*\n",
        "\n",
        "Label\n",
        "- Define label (list of indices of the words)\n",
        "\n",
        "Finally, we will convert the data and label to PyTorch tensors.\n",
        "- Convert data and label to PyTorch tensors"
      ],
      "metadata": {
        "id": "WSbg7QpdksP-"
      }
    },
    {
      "cell_type": "code",
      "source": [
        "class InkmlDataset(Dataset):\n",
        "    def __init__(self, annotation, root_dir, vocab): # annotation_path is a single string\n",
        "        \"\"\"\n",
        "        Arguments:\n",
        "            annotation_path (string): Path to the annotation file txt (e.g., train.txt).\n",
        "            root_dir (string): Directory holding the dataset inkml folders.\n",
        "            vocab (Vocab): Vocabulary object.\n",
        "        \"\"\"\n",
        "        self.annotation = annotation\n",
        "        self.root_dir = root_dir\n",
        "        self.vocab = vocab\n",
        "        self.inks = []\n",
        "        self.labels = []\n",
        "\n",
        "        df = pd.read_csv(annotation, sep=\"\\t\", header=None, names=[\"path\", \"label\"])\n",
        "        df = df.dropna().astype(str)\n",
        "\n",
        "        for _, row in df.iterrows():\n",
        "            rel_path = row[\"path\"]\n",
        "            label = row[\"label\"]\n",
        "            full_path = os.path.join(self.root_dir, rel_path)\n",
        "            self.inks.append(full_path)\n",
        "            self.labels.append(label)\n",
        "\n",
        "    def __len__(self):\n",
        "        \"\"\"This code should return the number of samples in the dataset\"\"\"\n",
        "        return len(self.labels)\n",
        "\n",
        "    def __getitem__(self, idx):\n",
        "        \"\"\"This code should return the idx-th sample in the dataset\"\"\"\n",
        "\n",
        "        ink = self.inks[idx]\n",
        "        label = self.labels[idx]\n",
        "\n",
        "        # TODO: feature engineering and return the correct data.\n",
        "        ink_object = Inkml(ink)\n",
        "        raw_traces = ink_object.getTraces()\n",
        "\n",
        "        cleaned_traces = []\n",
        "        stroke_end_index = []\n",
        "        points = 0\n",
        "\n",
        "        for trace in raw_traces:\n",
        "          trace_arr = np.array(trace)\n",
        "          if trace_arr.shape[1] == 3:\n",
        "            trace_arr = trace_arr[:, : 2]\n",
        "          if trace_arr.shape[0] >= 2:\n",
        "            cleaned_traces.append(trace_arr)\n",
        "            points += trace_arr.shape[0]\n",
        "            stroke_end_index.append(points - 1)\n",
        "\n",
        "        # check if the list has any traces, otherwise return empty tensors\n",
        "        if not cleaned_traces:\n",
        "          return torch.empty(0, 4, dtype=torch.float32), torch.empty(0, dtype=torch.long), torch.tensor(0, dtype=torch.long), torch.tensor(0, dtype=torch.long)\n",
        "\n",
        "        all_traces = np.concatenate(cleaned_traces, axis=0)\n",
        "        print(\"All traces: \\n\")\n",
        "        print(all_traces)\n",
        "\n",
        "        diff = np.diff(all_traces, axis=0)\n",
        "\n",
        "        diff_mask = (diff[:, 0] == 0) & (diff[:, 1] == 0)\n",
        "        cleaned_diff = []\n",
        "        cleaned_diff = diff[~diff_mask]\n",
        "\n",
        "        if cleaned_diff.shape[0] == 0:\n",
        "          label_tokens = label.strip().split()\n",
        "          target_indices = self.vocab.encode(label_tokens)\n",
        "          target_tensor = torch.tensor(target_indices, dtype=torch.long)\n",
        "          return torch.empty(0, 4, dtype=torch.float32), target_tensor, torch.tensor(0, dtype=torch.long), torch.tensor(target_tensor.shape[0], dtype=torch.long)\n",
        "\n",
        "        e_distance = np.sqrt(np.sum(cleaned_diff**2, axis=1))\n",
        "\n",
        "        # normalize the data by using euclidean distance\n",
        "        normalized_diff = cleaned_diff / e_distance[:, np.newaxis]\n",
        "\n",
        "        # initialize pen_updown. 0 means pen_down, 1 means pen_up\n",
        "        pen_updown = np.zeros(all_traces.shape[0], dtype=np.float32)\n",
        "        # check when the pen is up (the pen is up at each stroke_end_index)\n",
        "        for i in range(1, len(stroke_end_index)): # exclude the last pen up\n",
        "          start_index_next_stroke = stroke_end_index[i-1] + 1\n",
        "          if start_index_next_stroke < pen_updown.shape[0]:\n",
        "            pen_updown[start_index_next_stroke] = 1.0\n",
        "        pen_updown_1 = pen_updown[1:]\n",
        "        # use diff_mask to filter out zero-length strokes\n",
        "        cleaned_pen_updown = []\n",
        "        cleaned_pen_updown = pen_updown_1[~diff_mask]\n",
        "\n",
        "        # stack all of features\n",
        "        combined_features = np.stack([normalized_diff[:, 0], normalized_diff[:, 1], e_distance, cleaned_pen_updown], axis=1)\n",
        "\n",
        "        # convert to tensor\n",
        "        input_tensor = torch.tensor(combined_features, dtype=torch.float32)\n",
        "        label_tokens = label.split()\n",
        "        target_indices = self.vocab.encode(label_tokens)\n",
        "        target_tensor = torch.tensor(target_indices, dtype=torch.long)\n",
        "        input_len = torch.tensor(input_tensor.shape[0], dtype=torch.long)\n",
        "        label_len = torch.tensor(target_tensor.shape[0], dtype = torch.long)\n",
        "\n",
        "        return input_tensor, target_tensor, input_len, label_len"
      ],
      "metadata": {
        "trusted": true,
        "execution": {
          "iopub.status.busy": "2025-05-29T09:25:21.88072Z",
          "iopub.execute_input": "2025-05-29T09:25:21.880895Z",
          "iopub.status.idle": "2025-05-29T09:25:21.901814Z",
          "shell.execute_reply.started": "2025-05-29T09:25:21.880883Z",
          "shell.execute_reply": "2025-05-29T09:25:21.901099Z"
        },
        "id": "exjpG3NOksP-"
      },
      "outputs": [],
      "execution_count": null
    },
    {
      "cell_type": "markdown",
      "source": [
        "## Task 3: Build Lightning Data Module via Dataloader\n",
        "\n",
        "Revise [this tutorial](https://pytorch.org/tutorials/beginner/basics/data_tutorial.html#preparing-your-data-for-training-with-dataloaders) to see how you can prepare your data for training with DataLoader.\n",
        "\n",
        "Then refer to this [documentation](https://pytorch.org/docs/stable/data.html#loading-batched-and-non-batched-data) to understand how DataLoader in PyTorch loads Batched or Non-Batched data.\n",
        "\n",
        "> **TASK:** Write the dataloader with custom collate function to pad the input and target sequence\n",
        "\n",
        "For a better understanding of the importance of handling variable-length sequences in deep learning models, it is crucial to format and pad the data appropriately to ensure consistency during training. Learn more about this topic [here](https://plainenglish.io/blog/understanding-collate-fn-in-pytorch-f9d1742647d3).\n",
        "\n",
        "> _**Hint 1**: use `torch.nn.utils.rnn.pad_sequence` to pad the input and target sequences. Read more about this function [here](https://pytorch.org/docs/stable/generated/torch.nn.utils.rnn.pad_sequence.html)._\n",
        "\n",
        "> _**Hint 2**: read Example 3 from this [tutorial](https://www.programiz.com/python-programming/methods/built-in/zip) to unpack data using `zip()`._"
      ],
      "metadata": {
        "id": "FHf1MwVKksP-"
      }
    },
    {
      "cell_type": "code",
      "source": [
        "def collate_fn(batch):\n",
        "    \"\"\"Create batch\"\"\"\n",
        "    # TODO: your custom colate function here\n",
        "    features_list, labels_list, input_lens_list, label_lens_list = zip(*batch)\n",
        "    features = pad_sequence(features_list, batch_first=True, padding_value=0.0)\n",
        "    labels = pad_sequence(labels_list, batch_first=True, padding_value=0)\n",
        "    input_lens = torch.tensor(input_lens_list, dtype=torch.long)\n",
        "    label_lens = torch.tensor(label_lens_list, dtype=torch.long)\n",
        "\n",
        "    # features, labels, input_lens, label_lens should be torch.tensor\n",
        "    return features, labels, input_lens, label_lens"
      ],
      "metadata": {
        "trusted": true,
        "execution": {
          "iopub.status.busy": "2025-05-29T09:25:21.902614Z",
          "iopub.execute_input": "2025-05-29T09:25:21.903262Z",
          "iopub.status.idle": "2025-05-29T09:25:21.922524Z",
          "shell.execute_reply.started": "2025-05-29T09:25:21.903245Z",
          "shell.execute_reply": "2025-05-29T09:25:21.922038Z"
        },
        "id": "HBs91O37ksP-"
      },
      "outputs": [],
      "execution_count": null
    },
    {
      "cell_type": "code",
      "source": [
        "vocab = Vocab('vocab.json')\n",
        "annotation = \"/kaggle/input/crohme2019/crohme2019_train.txt\"\n",
        "root = \"/kaggle/input/crohme2019/crohme2019\"\n",
        "\n",
        "dataset = InkmlDataset(annotation, root, vocab)  # TODO: initialize a dataset\n",
        "features, labels, input_lens, label_lens = collate_fn([dataset[0], dataset[1]])\n",
        "dataset.__getitem__(2)\n",
        "import numpy.testing as npt\n",
        "assert type(input_lens) == torch.Tensor\n",
        "assert type(label_lens) == torch.Tensor"
      ],
      "metadata": {
        "trusted": true,
        "execution": {
          "iopub.status.busy": "2025-05-29T09:25:21.923176Z",
          "iopub.execute_input": "2025-05-29T09:25:21.923393Z",
          "iopub.status.idle": "2025-05-29T09:25:22.4801Z",
          "shell.execute_reply.started": "2025-05-29T09:25:21.923375Z",
          "shell.execute_reply": "2025-05-29T09:25:22.479512Z"
        },
        "id": "oEFZniPmksP-"
      },
      "outputs": [],
      "execution_count": null
    },
    {
      "cell_type": "markdown",
      "source": [
        "> **TASK:** implement InkmlDataset_PL Lightning Datamodule"
      ],
      "metadata": {
        "id": "hhKbrEYeksP-"
      }
    },
    {
      "cell_type": "code",
      "source": [
        "class InkmlDataset_PL(pl.LightningDataModule):\n",
        "    \"\"\"\n",
        "    PyTorch Lightning data module for handling the INKML dataset.\n",
        "    \"\"\"\n",
        "\n",
        "    def __init__(\n",
        "        self,\n",
        "        batch_size: int = 10,\n",
        "        workers: int = 5,\n",
        "        train_data: str = \"\",\n",
        "        val_data: str = \"\",\n",
        "        test_data: str = \"\",\n",
        "        root_dir: str = \"dataset\",\n",
        "        # change\n",
        "        vocab: Vocab = None\n",
        "    ):\n",
        "        super().__init__()\n",
        "        self.batch_size = batch_size\n",
        "        self.workers = workers\n",
        "        self.train_data = train_data\n",
        "        self.val_data = val_data\n",
        "        self.test_data = test_data\n",
        "        self.root_dir = root_dir\n",
        "        self.vocab = vocab\n",
        "\n",
        "    def setup(self, stage=None):\n",
        "        if stage == \"fit\" or stage is None:\n",
        "            self.train_dataset = InkmlDataset(self.train_data, root_dir=self.root_dir,vocab=self.vocab)\n",
        "            self.val_dataset = InkmlDataset(self.val_data, root_dir=self.root_dir, vocab=self.vocab)\n",
        "        if stage == \"test\" or stage is None:\n",
        "            self.test_dataset = InkmlDataset(self.test_data, root_dir=self.root_dir, vocab=self.vocab)\n",
        "\n",
        "    def custom_collate_fn(self, data):\n",
        "        traces, labels, input_lens, label_lens = zip(*data)\n",
        "\n",
        "        padded_traces = pad_sequence(traces, batch_first=True, padding_value=0.0)\n",
        "        padded_labels = pad_sequence(labels, batch_first=True, padding_value=0)\n",
        "        len_traces = torch.tensor(input_lens, dtype=torch.long)\n",
        "        len_labels = torch.tensor(label_lens, dtype=torch.long)\n",
        "        return padded_traces, padded_labels, len_traces, len_labels\n",
        "\n",
        "    def train_dataloader(self):\n",
        "        return DataLoader(\n",
        "            self.train_dataset,\n",
        "            batch_size=self.batch_size,\n",
        "            num_workers=self.workers,\n",
        "            collate_fn=self.custom_collate_fn,\n",
        "            shuffle=True,\n",
        "        )\n",
        "\n",
        "    def val_dataloader(self):\n",
        "        return DataLoader(\n",
        "            self.val_dataset,\n",
        "            batch_size=self.batch_size,\n",
        "            num_workers=self.workers,\n",
        "            collate_fn=self.custom_collate_fn,\n",
        "            shuffle=False,\n",
        "        )\n",
        "\n",
        "    def test_dataloader(self):\n",
        "        return DataLoader(\n",
        "            self.test_dataset,\n",
        "            batch_size=self.batch_size,\n",
        "            num_workers=self.workers,\n",
        "            collate_fn=self.custom_collate_fn,\n",
        "        )"
      ],
      "metadata": {
        "trusted": true,
        "execution": {
          "iopub.status.busy": "2025-05-29T09:25:22.480825Z",
          "iopub.execute_input": "2025-05-29T09:25:22.481075Z",
          "iopub.status.idle": "2025-05-29T09:25:22.489683Z",
          "shell.execute_reply.started": "2025-05-29T09:25:22.481048Z",
          "shell.execute_reply": "2025-05-29T09:25:22.488971Z"
        },
        "id": "0M5aI4W9ksQC"
      },
      "outputs": [],
      "execution_count": null
    },
    {
      "cell_type": "markdown",
      "source": [
        "## Task 4: Build Model\n",
        "\n",
        "In this task, we will build a model that will be used to train the dataset.\n",
        "The model will be a simple RNN with a single layer of Bidirectional LSTM cells. The model will take the input from the dataset and output the predicted sequence of symbols and relations and will use CTC loss to train the model.\n",
        "\n",
        "The model will be built using PyTorch and will use the following architecture\n"
      ],
      "metadata": {
        "id": "N7xWktmLksQC"
      }
    },
    {
      "cell_type": "markdown",
      "source": [
        "> _We highly recommend you to read through this [tutorial on Creating a model using Pytorch](https://pytorch.org/tutorials/beginner/introyt/modelsyt_tutorial.html) and understand the basic building blocks of a model in PyTorch._"
      ],
      "metadata": {
        "id": "WhN7tzTaksQC"
      }
    },
    {
      "cell_type": "markdown",
      "source": [
        "> _**ATTENTION** Below is the architecture for the model. You must **STRICTLY** follow the architecture and the parameters mentioned below._\n",
        "> | Layer Type         | Configuration                              |\n",
        "> |--------------------|--------------------------------------------|\n",
        "> | Input              | Sequence of vectors with `input_size=4`    |\n",
        "> | LSTM Layer         | `hidden_size=256`, `num_layers=2`          |\n",
        "> |                    | `batch_first=True`                         |\n",
        "> |                    | `bidirectional=True`                       |\n",
        "> | LSTM Output        | Output shape: `(batch_size, seq_len, hidden_size*2)`|\n",
        "> | Fully Connected    | `Linear(hidden_size*2, num_classes)`|\n",
        "> | Activation         | `LogSoftmax(dim=...)`|\n",
        "> | Output             | `(batch_size, seq_len, num_classes)`|\n"
      ],
      "metadata": {
        "id": "g_nYAPuIksQC"
      }
    },
    {
      "cell_type": "code",
      "source": [
        "class LSTM_TemporalClassification(nn.Module):\n",
        "    def __init__(self, input_size, hidden_size, num_layers, num_classes):\n",
        "        super(LSTM_TemporalClassification, self).__init__()\n",
        "        # TODO: declare layers here\n",
        "        self.input_size = input_size\n",
        "        self.hidden_size = hidden_size\n",
        "        self.num_layers = num_layers\n",
        "        self.num_classes = num_classes\n",
        "\n",
        "        self.lstm = nn.LSTM(input_size=self.input_size, hidden_size=self.hidden_size, num_layers=self.num_layers, batch_first=True, bidirectional=True)\n",
        "        self.fc = nn.Linear(self.hidden_size * 2, self.num_classes)\n",
        "        self.log_softmax = nn.LogSoftmax(dim=2)\n",
        "    def forward(self, x):\n",
        "        # TODO: write calculation process here\n",
        "        lstm_out, (h_n, c_n) = self.lstm(x)\n",
        "        fc_out = self.fc(lstm_out)\n",
        "        x = self.log_softmax(fc_out)\n",
        "        return x"
      ],
      "metadata": {
        "trusted": true,
        "execution": {
          "iopub.status.busy": "2025-05-29T09:25:22.490494Z",
          "iopub.execute_input": "2025-05-29T09:25:22.490795Z",
          "iopub.status.idle": "2025-05-29T09:25:22.512421Z",
          "shell.execute_reply.started": "2025-05-29T09:25:22.49077Z",
          "shell.execute_reply": "2025-05-29T09:25:22.51161Z"
        },
        "id": "_XfKLLl8ksQD"
      },
      "outputs": [],
      "execution_count": null
    },
    {
      "cell_type": "code",
      "source": [
        "#Test your implementation\n",
        "model = LSTM_TemporalClassification(4, 256, 2, 109)\n",
        "assert model.forward(torch.rand((10, 100, 4))).shape == (10, 100, 109)"
      ],
      "metadata": {
        "trusted": true,
        "execution": {
          "iopub.status.busy": "2025-05-29T09:25:22.513333Z",
          "iopub.execute_input": "2025-05-29T09:25:22.513654Z",
          "iopub.status.idle": "2025-05-29T09:25:22.796492Z",
          "shell.execute_reply.started": "2025-05-29T09:25:22.513593Z",
          "shell.execute_reply": "2025-05-29T09:25:22.795915Z"
        },
        "id": "wTqNV2yPksQD"
      },
      "outputs": [],
      "execution_count": null
    },
    {
      "cell_type": "markdown",
      "source": [],
      "metadata": {
        "id": "uo7--oNpmXHf"
      }
    },
    {
      "cell_type": "markdown",
      "source": [
        "## Task 5: Understand CTC Loss\n",
        "\n",
        "In this task, we will understand how to use CTC loss to train the model. The CTC loss is used to train the model to predict the sequence of symbols and relations from the input sequence of features.\n",
        "\n",
        "> _For deeper understanding of CTC loss, read this [blog](https://distill.pub/2017/ctc/)_\n",
        "\n",
        "Check out this [Pytorch documentation](https://pytorch.org/docs/stable/generated/torch.nn.CTCLoss.html) to learn more about its implementation.\n",
        "\n",
        "> _Hint: read the expected input and output of the CTC loss function. The input should be of shape `(T, N, C)` where T is the length of the input sequence, N is the batch size, and C is the number of classes. The target should be of shape `(N, S)` where S is the length of the target sequence._\n",
        "\n",
        "After understanding how CTC Loss works, we can proceed to implement it in our model."
      ],
      "metadata": {
        "id": "6xFZiJumksQD"
      }
    },
    {
      "cell_type": "code",
      "source": [
        "class GreedyCTCDecoder(torch.nn.Module):\n",
        "    def __init__(self, vocab):\n",
        "        super().__init__()\n",
        "        self.vocab = vocab\n",
        "        self.blank = vocab.char2idx[\"\"]  # Fixed: use char2idx instead of word2index\n",
        "\n",
        "    def forward(self, emission: torch.Tensor) -> list:\n",
        "\n",
        "        # Get the best path (indices with highest probability at each timestep)\n",
        "        indices = torch.argmax(emission, dim=-1)  # Shape: [seq_len]\n",
        "\n",
        "        # Remove consecutive duplicates\n",
        "        collapsed_indices = []\n",
        "        previous_idx = None\n",
        "\n",
        "        for idx in indices:\n",
        "            idx_item = idx.item()\n",
        "            if idx_item != previous_idx:  # Only add if different from previous\n",
        "                collapsed_indices.append(idx_item)\n",
        "                previous_idx = idx_item\n",
        "\n",
        "        # Remove blank tokens\n",
        "        filtered_indices = [idx for idx in collapsed_indices if idx != self.blank]\n",
        "\n",
        "        #Convert indices back to tokens using vocabulary\n",
        "        output_seq_list = self.vocab.decode(filtered_indices)\n",
        "\n",
        "        return output_seq_list"
      ],
      "metadata": {
        "id": "tuJNU1B3xwpU"
      },
      "execution_count": null,
      "outputs": []
    },
    {
      "cell_type": "code",
      "source": [
        "def edit_distance(pred_seq: list, label_seq: list):\n",
        "    m, n = len(pred_seq), len(label_seq)\n",
        "\n",
        "    # Create a DP table\n",
        "    dp = [[0] * (n + 1) for _ in range(m + 1)]\n",
        "\n",
        "    # Initialize first row and column\n",
        "    for i in range(m + 1):\n",
        "        dp[i][0] = i  # Deletions\n",
        "    for j in range(n + 1):\n",
        "        dp[0][j] = j  # Insertions\n",
        "\n",
        "    # Fill the DP table\n",
        "    for i in range(1, m + 1):\n",
        "        for j in range(1, n + 1):\n",
        "            if pred_seq[i-1] == label_seq[j-1]:\n",
        "                dp[i][j] = dp[i-1][j-1]  # No operation needed\n",
        "            else:\n",
        "                dp[i][j] = 1 + min(\n",
        "                    dp[i-1][j],    # Deletion\n",
        "                    dp[i][j-1],    # Insertion\n",
        "                    dp[i-1][j-1]   # Substitution\n",
        "                )\n",
        "\n",
        "    return dp[m][n]\n",
        "\n",
        "\n",
        "\n",
        "# Test your implementation\n",
        "assert (\n",
        "    edit_distance(\n",
        "        [\n",
        "            \"\\\\phi\",\n",
        "            \"Right\",\n",
        "            \"(\",\n",
        "            \"Right\",\n",
        "            \"0\",\n",
        "            \"Right\",\n",
        "            \"(\",\n",
        "            \"Right\",\n",
        "            \"n\",\n",
        "            \"Right\",\n",
        "            \")\",\n",
        "            \"Right\",\n",
        "            \")\",\n",
        "        ],\n",
        "        [\n",
        "            \"\\\\phi\",\n",
        "            \"Right\",\n",
        "            \"(\",\n",
        "            \"Right\",\n",
        "            \"\\\\phi\",\n",
        "            \"Right\",\n",
        "            \"(\",\n",
        "            \"Right\",\n",
        "            \"n\",\n",
        "            \"Right\",\n",
        "            \")\",\n",
        "            \"Right\",\n",
        "            \")\",\n",
        "        ],\n",
        "    )\n",
        "    == 1\n",
        ")"
      ],
      "metadata": {
        "id": "FBEsx7Isxz7p"
      },
      "execution_count": null,
      "outputs": []
    },
    {
      "cell_type": "markdown",
      "source": [
        "## Task 6: Build Lightning Module\n",
        "\n",
        "In this task, we will build a Lightning module that will be used to train the model. The Lightning module will mostly be used to define the training and validation steps, as well as the optimizer and learning rate scheduler.\n",
        "\n",
        "> _More on building Lightning module can be found [here](https://lightning.ai/docs/pytorch/stable/common/lightning_module.html). You should read about core methods to know what to implement in your module._"
      ],
      "metadata": {
        "id": "ia_7ItlQksQD"
      }
    },
    {
      "cell_type": "code",
      "source": [
        "def categorize_tokens(vocab):\n",
        "    \"\"\"Categorize tokens into symbols and relations\"\"\"\n",
        "    relations = {\n",
        "        'Right', 'Left', 'Above', 'Below', 'Sub', 'Sup', 'Inside', 'NoRel'\n",
        "    }\n",
        "\n",
        "    symbols = set()\n",
        "    relation_tokens = set()\n",
        "\n",
        "    for token in vocab.char2idx.keys():\n",
        "        if token == '':  # blank token\n",
        "            continue\n",
        "        elif token in relations:\n",
        "            relation_tokens.add(token)\n",
        "        else:\n",
        "            symbols.add(token)\n",
        "\n",
        "    return symbols, relation_tokens\n",
        "\n",
        "def calculate_separate_wer(predicted_tokens, ground_truth_tokens, vocab):\n",
        "    \"\"\"Calculate WER separately for symbols and relations\"\"\"\n",
        "    symbols, relations = categorize_tokens(vocab)\n",
        "\n",
        "    # Separate predicted tokens\n",
        "    pred_symbols = [token for token in predicted_tokens if token in symbols]\n",
        "    pred_relations = [token for token in predicted_tokens if token in relations]\n",
        "\n",
        "    # Separate ground truth tokens\n",
        "    gt_symbols = [token for token in ground_truth_tokens if token in symbols]\n",
        "    gt_relations = [token for token in ground_truth_tokens if token in relations]\n",
        "\n",
        "    # Calculate edit distances\n",
        "    symbol_edit_dist = edit_distance(pred_symbols, gt_symbols)\n",
        "    relation_edit_dist = edit_distance(pred_relations, gt_relations)\n",
        "\n",
        "    # Calculate WERs\n",
        "    symbol_wer = symbol_edit_dist / len(gt_symbols) if len(gt_symbols) > 0 else 0.0\n",
        "    relation_wer = relation_edit_dist / len(gt_relations) if len(gt_relations) > 0 else 0.0\n",
        "\n",
        "    return symbol_wer, relation_wer"
      ],
      "metadata": {
        "id": "Xfp2j3Y4x_h4"
      },
      "execution_count": null,
      "outputs": []
    },
    {
      "cell_type": "code",
      "source": [
        "class MathOnlineModel(pl.LightningModule):\n",
        "    def __init__(\n",
        "        self,\n",
        "        lr=0.001,\n",
        "        input_size=4,\n",
        "        output_size=109,\n",
        "        hidden_size=256,\n",
        "        num_layers=2,\n",
        "        decoder=None,\n",
        "        constraint_weight=0.1,  # lamda parameter\n",
        "    ):\n",
        "        super().__init__()\n",
        "        self.model = LSTM_TemporalClassification(\n",
        "            input_size, hidden_size, num_layers, output_size\n",
        "        )\n",
        "        self.criterion = torch.nn.CTCLoss(zero_infinity=True) # TODO: define CTC Loss Function here.\n",
        "        self.lr = lr\n",
        "        self.constraint_weight = constraint_weight\n",
        "        if decoder is None:\n",
        "            print(\" Warning: No decoder provided! WER calculation will fail!\")\n",
        "            vocab = Vocab('vocab.json')\n",
        "            self.decoder = GreedyCTCDecoder(vocab)\n",
        "        else:\n",
        "            self.decoder = decoder\n",
        "\n",
        "\n",
        "        self.relation_indices = self._get_relation_indices()\n",
        "\n",
        "    def forward(self, x):\n",
        "        return self.model(x)\n",
        "    def _get_relation_indices(self):\n",
        "        \"\"\"Get indices of relation tokens in vocabulary\"\"\"\n",
        "        relations = {'Right', 'Left', 'Above', 'Below', 'Sub', 'Sup', 'Inside', 'NoRel'}\n",
        "        vocab = self.decoder.vocab\n",
        "        relation_indices = []\n",
        "\n",
        "        for token, idx in vocab.char2idx.items():\n",
        "            if token in relations:\n",
        "                relation_indices.append(idx)\n",
        "\n",
        "        return torch.tensor(relation_indices, dtype=torch.long)\n",
        "    def _calculate_constraint_loss(self, log_probs, input_features, input_lengths):\n",
        "        batch_size, seq_len, num_classes = log_probs.shape\n",
        "        device = log_probs.device\n",
        "\n",
        "        # Move relation indices to correct device\n",
        "        relation_indices = self.relation_indices.to(device)\n",
        "        total_constraint_loss = 0.0\n",
        "\n",
        "        for i in range(batch_size):\n",
        "            try:\n",
        "                actual_len = input_lengths[i].item()\n",
        "\n",
        "                if actual_len <= 0 or actual_len > seq_len:\n",
        "                    continue\n",
        "\n",
        "                pen_up_states = input_features[i, :actual_len, 3]\n",
        "                pen_down_mask = (pen_up_states == 0).float()\n",
        "\n",
        "                # Check for NaN in input features\n",
        "                if torch.isnan(pen_down_mask).any():\n",
        "                    print(f\"NaN detected in pen_down_mask for batch {i}\")\n",
        "                    continue\n",
        "\n",
        "                log_probs_sample = log_probs[i, :actual_len, :]\n",
        "\n",
        "                if torch.isnan(log_probs_sample).any():\n",
        "                    print(f\"NaN detected in log_probs for batch {i}\")\n",
        "                    continue\n",
        "\n",
        "                log_probs_clamped = torch.clamp(log_probs_sample, min=-50, max=50)\n",
        "                probs = torch.exp(log_probs_clamped)\n",
        "\n",
        "                # Get relation probabilities\n",
        "                if len(relation_indices) > 0:\n",
        "                    relation_probs = probs[:, relation_indices]\n",
        "                    p_rel = torch.sum(relation_probs, dim=1)\n",
        "                else:\n",
        "                    p_rel = torch.zeros(actual_len, device=device)\n",
        "\n",
        "                constraint_term = torch.sum(p_rel * pen_down_mask)\n",
        "\n",
        "                # Clamp\n",
        "                constraint_term = torch.clamp(constraint_term, min=0.0, max=actual_len)\n",
        "\n",
        "                # Add epsilon and clamp the argument to log\n",
        "                eps = 1e-8\n",
        "                log_arg = torch.clamp(1.0 - constraint_term + eps, min=eps, max=1.0)\n",
        "                constraint_loss = -torch.log(log_arg)\n",
        "\n",
        "                # Final NaN check\n",
        "                if torch.isnan(constraint_loss) or torch.isinf(constraint_loss):\n",
        "                    print(f\"Invalid constraint_loss for batch {i}: {constraint_loss}\")\n",
        "                    constraint_loss = torch.tensor(0.0, device=device)\n",
        "\n",
        "                total_constraint_loss += constraint_loss\n",
        "\n",
        "            except Exception as e:\n",
        "                print(f\"Error in constraint loss calculation for batch {i}: {e}\")\n",
        "                continue\n",
        "\n",
        "        # Return safe constraint loss\n",
        "        if batch_size > 0:\n",
        "            final_loss = total_constraint_loss / batch_size\n",
        "        else:\n",
        "            final_loss = torch.tensor(0.0, device=device)\n",
        "\n",
        "        return final_loss\n",
        "\n",
        "    def training_step(self, batch, batch_idx):\n",
        "        x, y, x_lens, y_lens = batch\n",
        "        log_probs = self.forward(x)\n",
        "        log_probs_ctc = log_probs.transpose(0, 1)  # (seq_len, batch_size, num_classes)\n",
        "\n",
        "        ctc_loss = self.criterion(\n",
        "            log_probs=log_probs_ctc,\n",
        "            targets=y,\n",
        "            input_lengths=x_lens,\n",
        "            target_lengths=y_lens\n",
        "        )\n",
        "        constraint_loss = self._calculate_constraint_loss(log_probs, x, x_lens)\n",
        "        total_loss = ctc_loss + self.constraint_weight * constraint_loss\n",
        "        wer, wer_sym, wer_rel = self._calculate_wer(log_probs, y, x_lens, y_lens)\n",
        "\n",
        "        self.log(\"train_loss\", total_loss, prog_bar=True, on_step=True, on_epoch=True)\n",
        "        self.log(\"train_wer\", wer, prog_bar=True, on_step=False, on_epoch=True)\n",
        "        self.log(\"wer_sym\", wer_sym, prog_bar=False, on_step=False, on_epoch=True)\n",
        "        self.log(\"wer_rel\", wer_rel, prog_bar=False, on_step=False, on_epoch=True)\n",
        "\n",
        "        return total_loss\n",
        "\n",
        "    def validation_step(self, batch, batch_idx):\n",
        "        x, y, x_lens, y_lens = batch\n",
        "        log_probs = self.forward(x)\n",
        "        log_probs_ctc = log_probs.transpose(0, 1)\n",
        "        ctc_loss = self.criterion(\n",
        "            log_probs=log_probs_ctc,\n",
        "            targets=y,\n",
        "            input_lengths=x_lens,\n",
        "            target_lengths=y_lens\n",
        "        )\n",
        "\n",
        "\n",
        "        constraint_loss = self._calculate_constraint_loss(log_probs, x, x_lens)\n",
        "        total_loss = ctc_loss + self.constraint_weight * constraint_loss\n",
        "        wer, wer_sym, wer_rel = self._calculate_wer(log_probs, y, x_lens, y_lens)\n",
        "\n",
        "        # Log metrics\n",
        "        self.log(\"val_loss\", total_loss, prog_bar=True, on_step=False, on_epoch=True)\n",
        "        self.log(\"val_wer\", wer, prog_bar=True, on_step=False, on_epoch=True)\n",
        "        self.log(\"val_wer_sym\", wer_sym, prog_bar=False, on_step=False, on_epoch=True)\n",
        "        self.log(\"val_wer_rel\", wer_rel, prog_bar=False, on_step=False, on_epoch=True)\n",
        "\n",
        "        return total_loss\n",
        "\n",
        "\n",
        "    def test_step(self, batch, batch_idx):\n",
        "        x, y, x_lens, y_lens = batch\n",
        "\n",
        "        # Forward pass\n",
        "        log_probs = self.forward(x)                    # Shape: (batch=16, seq_len, 109)\n",
        "\n",
        "        # Create separate variable for CTC loss\n",
        "        log_probs_ctc = log_probs.transpose(0, 1)      # Shape: (seq_len, batch=16, 109)\n",
        "\n",
        "        # CTC Loss calculation\n",
        "        loss = self.criterion(\n",
        "            log_probs=log_probs_ctc,\n",
        "            targets=y,\n",
        "            input_lengths=x_lens,\n",
        "            target_lengths=y_lens\n",
        "        )\n",
        "\n",
        "        # WER calculation - use ORIGINAL log_probs\n",
        "        wer, wer_sym, wer_rel = self._calculate_wer(log_probs, y, x_lens, y_lens)\n",
        "\n",
        "        self.log(\"test_loss\", loss, prog_bar=True, on_step=False, on_epoch=True)\n",
        "        self.log(\"test_wer\", wer, prog_bar=True, on_step=False, on_epoch=True)\n",
        "        self.log(\"test_wer_sym\", wer_sym, prog_bar=False, on_step=False, on_epoch=True)\n",
        "        self.log(\"test_wer_rel\", wer_rel, prog_bar=False, on_step=False, on_epoch=True)\n",
        "\n",
        "        return loss\n",
        "\n",
        "    def _calculate_wer(self, log_probs, targets, input_lengths, target_lengths):\n",
        "        batch_size = log_probs.size(0)\n",
        "        total_edit_distance = 0\n",
        "        total_target_length = 0\n",
        "        total_symbol_edit_distance = 0\n",
        "        total_symbol_length = 0\n",
        "        total_relation_edit_distance = 0\n",
        "        total_relation_length = 0\n",
        "\n",
        "        for i in range(batch_size):\n",
        "            # Get predictions for this sample\n",
        "            sample_log_probs = log_probs[i, :input_lengths[i], :]\n",
        "\n",
        "            # Decode predictions\n",
        "            try:\n",
        "                predicted_tokens = self.decoder.forward(sample_log_probs)\n",
        "            except Exception:\n",
        "                predicted_tokens = []\n",
        "\n",
        "            # Get ground truth tokens\n",
        "            target_tokens = targets[i, :target_lengths[i]].tolist()\n",
        "\n",
        "            # Convert target indices to tokens using vocab\n",
        "            try:\n",
        "                vocab = self.decoder.vocab\n",
        "                ground_truth_tokens = vocab.decode(target_tokens)\n",
        "            except Exception:\n",
        "                ground_truth_tokens = []\n",
        "\n",
        "            # Calculate overall edit distance\n",
        "            edit_dist = edit_distance(predicted_tokens, ground_truth_tokens)\n",
        "            total_edit_distance += edit_dist\n",
        "            total_target_length += len(ground_truth_tokens)\n",
        "\n",
        "            # Calculate separate WERs\n",
        "            symbol_wer, relation_wer = calculate_separate_wer(\n",
        "                predicted_tokens, ground_truth_tokens, vocab\n",
        "            )\n",
        "\n",
        "            # Track separate metrics\n",
        "            symbols, relations = categorize_tokens(vocab)\n",
        "            gt_symbols = [token for token in ground_truth_tokens if token in symbols]\n",
        "            gt_relations = [token for token in ground_truth_tokens if token in relations]\n",
        "\n",
        "            total_symbol_edit_distance += symbol_wer * len(gt_symbols)\n",
        "            total_symbol_length += len(gt_symbols)\n",
        "            total_relation_edit_distance += relation_wer * len(gt_relations)\n",
        "            total_relation_length += len(gt_relations)\n",
        "\n",
        "        # Calculate overall WER\n",
        "        wer = total_edit_distance / total_target_length if total_target_length > 0 else 0.0\n",
        "\n",
        "        # Calculate separate WERs\n",
        "        wer_sym = total_symbol_edit_distance / total_symbol_length if total_symbol_length > 0 else 0.0\n",
        "        wer_rel = total_relation_edit_distance / total_relation_length if total_relation_length > 0 else 0.0\n",
        "\n",
        "        return wer, wer_sym, wer_rel\n",
        "\n",
        "    def configure_optimizers(self):\n",
        "        return torch.optim.Adam(self.model.parameters(), lr=self.lr)"
      ],
      "metadata": {
        "trusted": true,
        "execution": {
          "iopub.status.busy": "2025-05-29T09:34:39.470285Z",
          "iopub.execute_input": "2025-05-29T09:34:39.470827Z",
          "iopub.status.idle": "2025-05-29T09:34:39.479964Z",
          "shell.execute_reply.started": "2025-05-29T09:34:39.470799Z",
          "shell.execute_reply": "2025-05-29T09:34:39.4792Z"
        },
        "id": "aVOXvm4SksQD"
      },
      "outputs": [],
      "execution_count": null
    },
    {
      "cell_type": "markdown",
      "source": [
        "## Task 7: Train the Model with PyTorch Lightning\n",
        "\n",
        "Read more about Training with PyTorch Lightning [here](https://lightning.ai/docs/pytorch/stable/common/trainer.html) and understand how to use the Trainer class to train the model.\n",
        "\n",
        "From the documentation:\n",
        "\n",
        "> The Lightning Trainer does much more than just “training”. Under the hood, it handles all loop details for you, some examples include:\n",
        "> - Automatically enabling/disabling grads\n",
        "> - Running the training, validation and test dataloaders\n",
        "> - Calling the Callbacks at the appropriate times\n",
        "> - Putting batches and computations on the correct devices"
      ],
      "metadata": {
        "id": "GayMGk3yksQD"
      }
    },
    {
      "cell_type": "markdown",
      "source": [
        "> **IMPORTANT**: You must config your WandB logger to log the training and validation metrics. Without this, your work will not be graded."
      ],
      "metadata": {
        "id": "egCulG1JksQD"
      }
    },
    {
      "cell_type": "code",
      "source": [
        "student_id = \"10423042\"  # TODO: replace with your student ID\n",
        "api_key = os.environ.get(\"WANDB_API_KEY\", \"9dafed6b76b1d8e56f8c2493a26827039fe86a87\")  # configure your wandb key here\n",
        "\n",
        "if api_key == \"\":\n",
        "    raise ValueError(\"Please set your wandb key in the code or in the environment variable WANDB_API_KEY\")\n",
        "else:\n",
        "    print(\"WandB API key is set. Proceeding with login...\")\n",
        "\n",
        "wandb.login(key=api_key)"
      ],
      "metadata": {
        "trusted": true,
        "execution": {
          "iopub.status.busy": "2025-05-29T09:25:22.805568Z",
          "iopub.execute_input": "2025-05-29T09:25:22.80586Z",
          "iopub.status.idle": "2025-05-29T09:25:28.644434Z",
          "shell.execute_reply.started": "2025-05-29T09:25:22.805837Z",
          "shell.execute_reply": "2025-05-29T09:25:28.643858Z"
        },
        "id": "4o12HPSTksQD"
      },
      "outputs": [],
      "execution_count": null
    },
    {
      "cell_type": "code",
      "source": [
        "wandb_logger = WandbLogger(\n",
        "    entity=\"cuong-nt-vgu-ai-2025\",  # DO NOT CHANGE THIS\n",
        "    project=\"math_online_2025\", # DO NOT CHANGE THIS\n",
        "    name=f\"{student_id}_run_1\",\n",
        "    config={\n",
        "        \"student_id\": student_id,  # DO NOT CHANGE THIS\n",
        "        \"model\": \"LSTM_TemporalClassification\",\n",
        "        # your hyperparameters\n",
        "    },\n",
        "    log_model=True,\n",
        "    save_dir=\"wandb_logs\",\n",
        ")\n",
        "\n",
        "trainer = Trainer(\n",
        "    callbacks=[\n",
        "        LearningRateMonitor(logging_interval='step'),\n",
        "        ModelCheckpoint(\n",
        "            filename='{epoch}-{val_wer:.4f}',\n",
        "            save_top_k=5,  # Keep best 5 models\n",
        "            monitor='val_wer',\n",
        "            mode='min'\n",
        "        ),\n",
        "        # ✅ Add early stopping\n",
        "        pl.callbacks.EarlyStopping(\n",
        "            monitor='val_wer',\n",
        "            patience=5,\n",
        "            verbose=True,\n",
        "            mode='min'\n",
        "        )\n",
        "    ],\n",
        "    logger = wandb_logger,\n",
        "    check_val_every_n_epoch=1,\n",
        "    fast_dev_run=False,  # enable for testing model\n",
        "    default_root_dir='checkpoint',\n",
        "    deterministic=False,\n",
        "    max_epochs=30,\n",
        "    log_every_n_steps=50,\n",
        "    devices = \"auto\",\n",
        ")\n",
        "decoder = GreedyCTCDecoder(vocab)\n",
        "#model = MathOnlineModel(lr=lr, hidden_size=hidden_size, num_layers=num_layer, decoder=decoder, constraint_weight=0.1)\n",
        "model = MathOnlineModel.load_from_checkpoint(\"/content/wandb_logs/math_online_2025/v4m3rcms/checkpoints/epoch=29-val_wer=0.1581.ckpt\",)\n",
        "dm = InkmlDataset_PL(\n",
        "    root_dir=\"/kaggle/input/crohme2019/crohme2019\",\n",
        "    train_data=\"/kaggle/input/crohme2019/crohme2019_train.txt\",\n",
        "    val_data=\"/kaggle/input/crohme2019/crohme2019_valid.txt\",\n",
        "    test_data=\"/kaggle/input/crohme2019/crohme2019_test.txt\", # For later\n",
        "    batch_size=32,\n",
        "    vocab = Vocab('vocab.json'),\n",
        "    workers=4\n",
        ")\n",
        "\n",
        "trainer.fit(model, dm)"
      ],
      "metadata": {
        "trusted": true,
        "execution": {
          "iopub.status.busy": "2025-05-29T09:34:45.306419Z",
          "iopub.execute_input": "2025-05-29T09:34:45.306752Z",
          "iopub.status.idle": "2025-05-29T10:09:25.601311Z",
          "shell.execute_reply.started": "2025-05-29T09:34:45.306732Z",
          "shell.execute_reply": "2025-05-29T10:09:25.600445Z"
        },
        "id": "7vRQHFLFksQD"
      },
      "outputs": [],
      "execution_count": null
    },
    {
      "cell_type": "code",
      "source": [
        "wandb.finish()"
      ],
      "metadata": {
        "trusted": true,
        "execution": {
          "iopub.status.busy": "2025-05-29T10:09:39.565167Z",
          "iopub.execute_input": "2025-05-29T10:09:39.566053Z",
          "iopub.status.idle": "2025-05-29T10:09:40.920762Z",
          "shell.execute_reply.started": "2025-05-29T10:09:39.566005Z",
          "shell.execute_reply": "2025-05-29T10:09:40.920163Z"
        },
        "id": "_nX9SoLPksQD"
      },
      "outputs": [],
      "execution_count": null
    },
    {
      "cell_type": "markdown",
      "source": [
        "**Requirements:**\n",
        "- Validation loss (val_loss < 0.7)\n",
        "\n",
        "**Tips on training:**\n",
        "- Debug with **fast_dev_run**:\n",
        "Before run the training process, it is better to make a quick check of training and validation loop. Set fast_dev_run=True, then run the trainer and check if there is any bug exist.\n",
        "- Training initially with **small batch size**:\n",
        "In practice, training with CTC loss converges slowly for large batch size. To accelerate convergence, training with small batch size first, save model, then, train with large batch size.\n",
        "- Train more epochs by setting:\n",
        "\n",
        "```python\n",
        "trainer = Trainer(\n",
        "    ...\n",
        "    max_epochs=20,\n",
        "    ...\n",
        ")\n",
        "```"
      ],
      "metadata": {
        "id": "ZLRkr5RuksQD"
      }
    },
    {
      "cell_type": "code",
      "source": [
        "!find /content -name \"*.ckpt\""
      ],
      "metadata": {
        "trusted": true,
        "execution": {
          "iopub.status.busy": "2025-05-29T10:14:24.002289Z",
          "iopub.execute_input": "2025-05-29T10:14:24.002604Z",
          "iopub.status.idle": "2025-05-29T10:14:24.157774Z",
          "shell.execute_reply.started": "2025-05-29T10:14:24.002583Z",
          "shell.execute_reply": "2025-05-29T10:14:24.156881Z"
        },
        "id": "5umB4teQksQE"
      },
      "outputs": [],
      "execution_count": null
    },
    {
      "cell_type": "markdown",
      "source": [
        "## Task 8: Test your model\n",
        "\n",
        "Run the test set and check the accuracy of your model. The test set is used to evaluate the performance of the model on unseen data."
      ],
      "metadata": {
        "id": "aGnI0iWWksQE"
      }
    },
    {
      "cell_type": "code",
      "source": [
        "trainer = Trainer(\n",
        "    devices=1,\n",
        ")\n",
        "\n",
        "# Load the model from a checkpoint\n",
        "model = MathOnlineModel.load_from_checkpoint(\n",
        "    \"/content/wandb_logs/math_online_2025/v4m3rcms/checkpoints/epoch=11-val_wer=0.1365.ckpt\",\n",
        ")\n",
        "\n",
        "# Initialize the data module\n",
        "dm = InkmlDataset_PL(\n",
        "    root_dir=\"/kaggle/input/crohme2019/crohme2019\",\n",
        "    train_data=\"/kaggle/input/crohme2019/crohme2019_train.txt\",\n",
        "    val_data=\"/kaggle/input/crohme2019/crohme2019_valid.txt\",\n",
        "    test_data=\"/kaggle/input/crohme2019/crohme2019_test.txt\", # For later\n",
        "    batch_size=32,\n",
        "    vocab = Vocab('vocab.json'),\n",
        "    workers=4\n",
        ")\n",
        "\n",
        "# Test the model\n",
        "trainer.test(model, datamodule=dm)"
      ],
      "metadata": {
        "trusted": true,
        "execution": {
          "iopub.status.busy": "2025-05-29T10:22:31.69064Z",
          "iopub.execute_input": "2025-05-29T10:22:31.690922Z",
          "iopub.status.idle": "2025-05-29T10:22:31.768147Z",
          "shell.execute_reply.started": "2025-05-29T10:22:31.690902Z",
          "shell.execute_reply": "2025-05-29T10:22:31.767129Z"
        },
        "id": "q6B1kqFnksQE"
      },
      "outputs": [],
      "execution_count": null
    },
    {
      "cell_type": "markdown",
      "source": [
        "## Task 9: Inference\n",
        "\n",
        "The output of networks need to process by a decoding step.\n",
        "\n",
        "- Greedy decode: Your task is to implement greedy decoding method. Which converts the output into a string of symbols and relations (same form with labels). Greedy decoder produce the best path by removing consecutive repeated symbols/relations and then remove \\<blank\\>\n",
        "\n",
        "> **TASK**: Implement the greedy decoder for the model output.\n",
        "\n",
        "Based on GreedyCTCDecoder class from this [link](https://pytorch.org/audio/main/tutorials/asr_inference_with_ctc_decoder_tutorial.html#greedy-decoder), write decoding for an output. Your implementation should handle the output of the model and convert it into a string of symbols and relations, ensuring to remove consecutive repeated symbols/relations and the blank token."
      ],
      "metadata": {
        "id": "1i6dKwOiksQE"
      }
    },
    {
      "cell_type": "code",
      "source": [
        "class GreedyCTCDecoder(torch.nn.Module):\n",
        "    def __init__(self, vocab):\n",
        "        super().__init__()\n",
        "        self.vocab = vocab\n",
        "        self.blank = vocab.char2idx[\"\"]  # Fixed: use char2idx instead of word2index\n",
        "\n",
        "    def forward(self, emission: torch.Tensor) -> list:\n",
        "\n",
        "        # Get the best path (indices with highest probability at each timestep)\n",
        "        indices = torch.argmax(emission, dim=-1)  # Shape: [seq_len]\n",
        "\n",
        "        # Remove consecutive duplicates\n",
        "        collapsed_indices = []\n",
        "        previous_idx = None\n",
        "\n",
        "        for idx in indices:\n",
        "            idx_item = idx.item()\n",
        "            if idx_item != previous_idx:  # Only add if different from previous\n",
        "                collapsed_indices.append(idx_item)\n",
        "                previous_idx = idx_item\n",
        "\n",
        "        # Remove blank tokens\n",
        "        filtered_indices = [idx for idx in collapsed_indices if idx != self.blank]\n",
        "\n",
        "        #Convert indices back to tokens using vocabulary\n",
        "        output_seq_list = self.vocab.decode(filtered_indices)\n",
        "\n",
        "        return output_seq_list"
      ],
      "metadata": {
        "trusted": true,
        "id": "FJ2pWCLLksQE"
      },
      "outputs": [],
      "execution_count": null
    },
    {
      "cell_type": "markdown",
      "source": [
        "Then you can test the output of your model here"
      ],
      "metadata": {
        "id": "juoeVyQnksQE"
      }
    },
    {
      "cell_type": "code",
      "source": [
        "def test_model(model_checkpoint_path):\n",
        "    # Load trained model\n",
        "    model = MathOnlineModel.load_from_checkpoint(model_checkpoint_path)\n",
        "    model.eval()\n",
        "    # Determine the device the model is on\n",
        "    device = next(model.parameters()).device\n",
        "    print(f\"Model is on device: {device}\")\n",
        "\n",
        "    # Load vocabulary and dataset\n",
        "    vocab = Vocab('vocab.json')\n",
        "    dataset = InkmlDataset(\n",
        "        annotation=\"dataset/crohme2019_test.txt\",\n",
        "        root_dir=\"dataset/crohme2019\",\n",
        "        vocab=vocab\n",
        "    )\n",
        "\n",
        "    # Create decoder\n",
        "    greedy_decoder = GreedyCTCDecoder(vocab)\n",
        "\n",
        "    # Get a sample\n",
        "    feature, label, input_len, label_len = dataset[80]\n",
        "\n",
        "    # Add batch dimension\n",
        "    feature_batch = feature.unsqueeze(0)  # Shape: [1, seq_len, 4]\n",
        "    feature_batch = feature_batch.to(device)\n",
        "    # Model prediction\n",
        "    with torch.no_grad():\n",
        "        log_probs = model(feature_batch)  # Shape: [1, seq_len, num_classes]\n",
        "\n",
        "        # Remove batch dimension for decoder\n",
        "        emission = log_probs.squeeze(0)  # Shape: [seq_len, num_classes]\n",
        "\n",
        "        # Decode\n",
        "        decoded_output = greedy_decoder.forward(emission)\n",
        "\n",
        "    # Compare with ground truth\n",
        "    ground_truth = vocab.decode(label.tolist())\n",
        "\n",
        "    print(f\"Ground truth: {ground_truth}\")\n",
        "    print(f\"Predicted:    {decoded_output}\")\n",
        "\n",
        "    return decoded_output, ground_truth\n",
        "\n",
        "# Example usage (uncomment when you have a trained model):\n",
        "decoded, truth = test_model(\"/content/wandb_logs/math_online_2025/v4m3rcms/checkpoints/epoch=11-val_wer=0.1365.ckpt\")\n",
        "\n"
      ],
      "metadata": {
        "trusted": true,
        "id": "q31q5CfyksQE"
      },
      "outputs": [],
      "execution_count": null
    },
    {
      "cell_type": "markdown",
      "source": [
        "## Task 10: Implement calculation metric for training"
      ],
      "metadata": {
        "id": "JMjAec_CksQE"
      }
    },
    {
      "cell_type": "code",
      "source": [
        "def edit_distance(pred_seq: list, label_seq: list):\n",
        "    m, n = len(pred_seq), len(label_seq)\n",
        "\n",
        "    # Create a DP table\n",
        "    dp = [[0] * (n + 1) for _ in range(m + 1)]\n",
        "\n",
        "    # Initialize first row and column\n",
        "    for i in range(m + 1):\n",
        "        dp[i][0] = i  # Deletions\n",
        "    for j in range(n + 1):\n",
        "        dp[0][j] = j  # Insertions\n",
        "\n",
        "    # Fill the DP table\n",
        "    for i in range(1, m + 1):\n",
        "        for j in range(1, n + 1):\n",
        "            if pred_seq[i-1] == label_seq[j-1]:\n",
        "                dp[i][j] = dp[i-1][j-1]  # No operation needed\n",
        "            else:\n",
        "                dp[i][j] = 1 + min(\n",
        "                    dp[i-1][j],    # Deletion\n",
        "                    dp[i][j-1],    # Insertion\n",
        "                    dp[i-1][j-1]   # Substitution\n",
        "                )\n",
        "\n",
        "    return dp[m][n]\n",
        "\n",
        "\n",
        "\n",
        "# Test your implementation\n",
        "assert (\n",
        "    edit_distance(\n",
        "        [\n",
        "            \"\\\\phi\",\n",
        "            \"Right\",\n",
        "            \"(\",\n",
        "            \"Right\",\n",
        "            \"0\",\n",
        "            \"Right\",\n",
        "            \"(\",\n",
        "            \"Right\",\n",
        "            \"n\",\n",
        "            \"Right\",\n",
        "            \")\",\n",
        "            \"Right\",\n",
        "            \")\",\n",
        "        ],\n",
        "        [\n",
        "            \"\\\\phi\",\n",
        "            \"Right\",\n",
        "            \"(\",\n",
        "            \"Right\",\n",
        "            \"\\\\phi\",\n",
        "            \"Right\",\n",
        "            \"(\",\n",
        "            \"Right\",\n",
        "            \"n\",\n",
        "            \"Right\",\n",
        "            \")\",\n",
        "            \"Right\",\n",
        "            \")\",\n",
        "        ],\n",
        "    )\n",
        "    == 1\n",
        ")"
      ],
      "metadata": {
        "trusted": true,
        "id": "6dTl-G-mksQE"
      },
      "outputs": [],
      "execution_count": null
    },
    {
      "cell_type": "markdown",
      "source": [
        "> **TASK**: Implement word error rate metric (wer) for training,  validation and testing in your model.\n",
        ">\n",
        "> $wer = \\frac{total\\ edit\\ distance (predict\\ sequence,\\ target\\ sequence)}{total\\ target\\ sequence\\ length}$\n"
      ],
      "metadata": {
        "id": "MO-QUwCpksQE"
      }
    },
    {
      "cell_type": "markdown",
      "source": [
        "**Steps to process:**\n",
        "\n",
        "- Decode the predicted sequences to obtain the text output.\n",
        "- Calculate the total edit distance between the predicted and target sequences.\n",
        "- Compute the word error rate using the formula provided.\n",
        "- Log the WER metric during training and validation.\n",
        "\n",
        "**Continue to train the model**\n",
        "\n",
        "- Load the latest trained model:\n",
        "\n",
        "```\n",
        "model = MathOnlineModel.load_from_checkpoint('path/to/your/checkpoint.ckpt')\n",
        "```\n",
        "- Change config of ModelCheckPoint to monitor the new metric (val_wer) instead.\n",
        "\n",
        "```\n",
        "        ModelCheckpoint(filename='{epoch}-{val_loss:.4f}', save_top_k=5, monitor='val_loss', mode='min')\n",
        "        \n",
        "      --> ModelCheckpoint(filename='{epoch}-{val_wer:.4f}', save_top_k=5, monitor='val_wer', mode='min'),\n",
        "\n",
        "```\n"
      ],
      "metadata": {
        "id": "04RhWfINksQE"
      }
    },
    {
      "cell_type": "markdown",
      "source": [
        "## **BONUS TASKS**\n",
        "\n",
        "The following tasks are optional and can be done for extra credit to the final exam.\n",
        "\n",
        "### **Bonus 1**: Add metric to evaluate accuracy of symbols and relations seperately *(+0.5pt)*\n",
        "\n",
        "**Add the metrics: wer for symbols and wer for relations**\n",
        "```\n",
        "self.log('wer_sym',...)\n",
        "self.log('wer_rel',...)\n",
        "```\n",
        "\n",
        "### **Bonus 2**: Modify loss function to constraint the output of relations at the time step of pen-up *(+1pt)*\n",
        "Modify loss function to constrain the output of relations at the timestep of pen-up.\n",
        "\n",
        "The idea: Provide a masked sequence such that the position of pen-up is masked, the additional loss would penaltize all the relations output to the timestep that has been masked.\n",
        "\n",
        "\n",
        "**Loss function to constraint relation output**\n",
        "\n",
        "```\n",
        "pen_down: a masked sequence, where len(pen_down) = len(input_sequence)\n",
        "        and pen_down[t] == 1 (pen down), pen_down[t] == 0 (pen up)\n",
        "p_rel: total probability of relation outputs for every time step t, len(p_rel) = len(input_sequence), p_rel[t] = sum(p[t][rel] for rel in ['Sub', 'Sup', 'Above', ...])\n",
        "\n",
        "The loss is defined as:\n",
        "\n",
        "    L_{constraint} = -log(1 - sum(p_rel * pen_down))\n",
        "    \n",
        "Explanation:\n",
        "\n",
        "    Minimize L_{constraint} (value range of (-inf, 0)) would make maximize of (1 - sum(p_rel * pen_down)), or making sum(p_rel * mask) -> 0, then it will penalize the relation output on pen_down timesteps.\n",
        "```\n",
        "\n",
        "**Apply constraint loss function with ctc loss**\n",
        "\n",
        "```\n",
        "    L = loss_{ctc} + \\lambda * L_{constraint}\n",
        "    \n",
        "where \\lambda is a weighted parameter to control balance between the two losses.\n",
        "   \n",
        "```\n",
        "\n",
        "\n",
        "You can also find it in a published paper here, section 3.4:\n",
        "https://arxiv.org/pdf/2105.10156\n",
        "\n",
        "### **Bonus 3**: Visualize model prediction by timesteps and probability of softmax outputs *(+0.5pt)*\n",
        "\n",
        "![alt text](https://github.com/fuisl/crohme-ctc/blob/6722b97ec2000afcd16068220f0b1b83b3134ff8/assets/graph_with_prob.png?raw=true)\n",
        "\n",
        "### **Bonus 4**: Use CUDA CTC Decoder to optimize decoding process in model *(+0.5pt)*\n",
        "\n",
        "Follow the instructions via this [link](https://pytorch.org/audio/main/tutorials/asr_inference_with_ctc_decoder_tutorial.html#cuda-ctc-decoder) to implement CUDA CTC decoder in your model."
      ],
      "metadata": {
        "id": "SFzci1h9ksQE"
      }
    }
  ]
}